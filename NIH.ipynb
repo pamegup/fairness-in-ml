{
  "nbformat": 4,
  "nbformat_minor": 0,
  "metadata": {
    "colab": {
      "provenance": [],
      "toc_visible": true,
      "mount_file_id": "1krs8tOEwrYVKiPNJW3IalHoQBK9rRg6e",
      "authorship_tag": "ABX9TyMHoWLgf3YvfWsQ2Qe1BjRO",
      "include_colab_link": true
    },
    "kernelspec": {
      "name": "python3",
      "display_name": "Python 3"
    },
    "language_info": {
      "name": "python"
    }
  },
  "cells": [
    {
      "cell_type": "markdown",
      "metadata": {
        "id": "view-in-github",
        "colab_type": "text"
      },
      "source": [
        "<a href=\"https://colab.research.google.com/github/pamegup/fairness-in-ml/blob/master/NIH.ipynb\" target=\"_parent\"><img src=\"https://colab.research.google.com/assets/colab-badge.svg\" alt=\"Open In Colab\"/></a>"
      ]
    },
    {
      "cell_type": "code",
      "execution_count": 4,
      "metadata": {
        "colab": {
          "base_uri": "https://localhost:8080/"
        },
        "id": "kR0qeZRUL5p9",
        "outputId": "a4fe759b-3e41-4abd-b1de-d6f850c789a3"
      },
      "outputs": [
        {
          "output_type": "stream",
          "name": "stdout",
          "text": [
            "sklearn: 1.0.2\n",
            "pandas: 1.3.5\n",
            "tensorflow: 2.11.0\n"
          ]
        }
      ],
      "source": [
        "# HIDE\n",
        "import pandas as pd\n",
        "import numpy as np\n",
        "np.random.seed(7)\n",
        "import matplotlib.pyplot as plt\n",
        "import seaborn as sns\n",
        "sns.set(style=\"white\", palette=[sns.color_palette('muted')[i] for i in [0,2]], \n",
        "        color_codes=True, context=\"talk\")\n",
        "from IPython import display\n",
        "%matplotlib inline\n",
        "\n",
        "import sklearn as sk\n",
        "from sklearn.model_selection import train_test_split\n",
        "from sklearn.preprocessing import StandardScaler\n",
        "from sklearn.metrics import accuracy_score, roc_auc_score\n",
        "from sklearn.utils.class_weight import compute_class_weight\n",
        "\n",
        "# import keras as ke\n",
        "# import keras.backend as K\n",
        "import tensorflow as tf\n",
        "from tensorflow.keras.layers import Input, Dense, Dropout\n",
        "from tensorflow.keras.models import Model\n",
        "\n",
        "create_gif = False\n",
        "\n",
        "print(f\"sklearn: {sk.__version__}\")\n",
        "print(f\"pandas: {pd.__version__}\")\n",
        "print(f\"tensorflow: {tf.__version__}\")"
      ]
    },
    {
      "cell_type": "markdown",
      "source": [
        "# New Section"
      ],
      "metadata": {
        "id": "ot2Bm9Bouyya"
      }
    },
    {
      "cell_type": "code",
      "source": [
        "from google.colab import drive\n",
        "drive.mount('/content/drive/')\n"
      ],
      "metadata": {
        "colab": {
          "base_uri": "https://localhost:8080/"
        },
        "id": "nojUdvhN1cpu",
        "outputId": "d66e17e4-145e-41c7-db02-148630061754"
      },
      "execution_count": 5,
      "outputs": [
        {
          "output_type": "stream",
          "name": "stdout",
          "text": [
            "Drive already mounted at /content/drive/; to attempt to forcibly remount, call drive.mount(\"/content/drive/\", force_remount=True).\n"
          ]
        }
      ]
    },
    {
      "cell_type": "code",
      "source": [
        "patientstarget = pd.read_csv(\"/content/drive/MyDrive/Colab Notebooks/Challenge Data/patientstarget.csv\")\n",
        "patients = pd.read_csv(\"/content/drive/MyDrive/Colab Notebooks/Challenge Data/patients.csv\")\n",
        "\n",
        "conditions = pd.read_csv(\"/content/drive/MyDrive/Colab Notebooks/Challenge Data/conditions.csv\")\n",
        "observations = pd.read_csv(\"/content/drive/MyDrive/Colab Notebooks/Challenge Data/observations.csv\")\n",
        "care_plans = pd.read_csv(\"/content/drive/MyDrive/Colab Notebooks/Challenge Data/careplans.csv\")\n",
        "encounters = pd.read_csv(\"/content/drive/MyDrive/Colab Notebooks/Challenge Data/encounters.csv\")\n",
        "devices = pd.read_csv(\"/content/drive/MyDrive/Colab Notebooks/Challenge Data/devices.csv\")\n",
        "supplies = pd.read_csv('/content/drive/MyDrive/Colab Notebooks/Challenge Data/supplies.csv')\n",
        "procedures = pd.read_csv(\"/content/drive/MyDrive/Colab Notebooks/Challenge Data/procedures.csv\")\n",
        "medications = pd.read_csv(\"/content/drive/MyDrive/Colab Notebooks/Challenge Data/medications.csv\")"
      ],
      "metadata": {
        "id": "JY3ClX3E7KVG"
      },
      "execution_count": 7,
      "outputs": []
    },
    {
      "cell_type": "code",
      "source": [
        "\n",
        "#Select COVID-19 conditions out of all conditions in the simulation\n",
        "covid_conditions = conditions[conditions.CODE == 840539006]\n",
        "#Grab the IDs of patients that have been diagnosed with COVID-19\n",
        "covid_patient_ids = conditions[conditions.CODE == 840539006].PATIENT.unique()\n",
        "# Grab IDs for patients with admission due to COVID-19\n",
        "inpatient_ids = encounters[(encounters.REASONCODE == 840539006) & (encounters.CODE == 1505002)].PATIENT\n",
        "inpatient_ids.shape"
      ],
      "metadata": {
        "colab": {
          "base_uri": "https://localhost:8080/"
        },
        "id": "IpsXIhriu1Ni",
        "outputId": "0bfce44f-a8e2-48a6-ec20-d8f9cf3b90e4"
      },
      "execution_count": 8,
      "outputs": [
        {
          "output_type": "execute_result",
          "data": {
            "text/plain": [
              "(1867,)"
            ]
          },
          "metadata": {},
          "execution_count": 8
        }
      ]
    },
    {
      "cell_type": "markdown",
      "source": [
        "# New Section"
      ],
      "metadata": {
        "id": "wnoB_aZRhKh5"
      }
    },
    {
      "cell_type": "code",
      "source": [
        "#Lab values for COVID-19 patients The following code presents lab values taken for COVID-19 patients. Values are separated into survivors and non survivors.\n",
        "#The first block of code selects lab values of interest from all observations in the simulation.\n",
        "lab_obs = observations[(observations.CODE == '48065-7') | (observations.CODE == '26881-3') | \n",
        "                          (observations.CODE == '2276-4') | (observations.CODE == '89579-7') |\n",
        "                          (observations.CODE == '2532-0') | (observations.CODE == '731-0') |\n",
        "                          (observations.CODE == '14804-9')\n",
        "                      ]"
      ],
      "metadata": {
        "id": "Gt8ZOwyO0ANn"
      },
      "execution_count": 9,
      "outputs": []
    },
    {
      "cell_type": "code",
      "source": [
        "# Set up a new DataFrame with boolean columns representing various outcomes, like admit, recovery \n",
        "cp = covid_conditions.merge(patients, how='left', left_on='PATIENT', right_on='Id')\n",
        "isolation_ids = care_plans[(care_plans.CODE == 736376001) & (care_plans.REASONCODE == 840539006)].PATIENT\n",
        "cp['isolation'] = cp.Id.isin(isolation_ids)\n",
        "cp['admit'] = cp.Id.isin(inpatient_ids)\n",
        "\n",
        "icu_ids = encounters[encounters.CODE == 305351004].PATIENT\n",
        "cp['icu_admit'] = cp.Id.isin(icu_ids)\n",
        "vent_ids = procedures[procedures.CODE == 26763009].PATIENT\n",
        "cp['ventilated'] = cp.Id.isin(vent_ids)\n"
      ],
      "metadata": {
        "id": "FJEkBLGxdWCF"
      },
      "execution_count": 10,
      "outputs": []
    },
    {
      "cell_type": "code",
      "source": [
        "hospitalized = (cp.admit == True)\n",
        "icu = (cp.icu_admit == True)\n",
        "vent = (cp.ventilated == True)\n",
        "covid_count = cp.Id.size\n",
        "row_filters = {'Home Isolation': (cp.isolation == True), 'Hospital Admission': hospitalized, 'ICU Admission': icu,\n",
        " }\n",
        "\n",
        "table_rows = []\n",
        "for category, row_filter in row_filters.items():\n",
        "    row = {'Outcome': category}\n",
        "    row['All Patients'] = cp[row_filter].Id.size / covid_count\n",
        "    row['Hospitalized'] = cp[row_filter & hospitalized].Id.size / hospitalized.value_counts()[True]\n",
        "    row['ICU Admitted'] = cp[row_filter & icu].Id.size / icu.value_counts()[True]\n",
        "    row['Required Ventilation'] = cp[row_filter & vent].Id.size / vent.value_counts()[True]\n",
        "    table_rows.append(row)\n",
        "    \n",
        "pd.DataFrame.from_records(table_rows)"
      ],
      "metadata": {
        "colab": {
          "base_uri": "https://localhost:8080/",
          "height": 143
        },
        "id": "e-e3pROLfHBD",
        "outputId": "0c571cac-8e86-4316-dfce-3eb8b1d14922"
      },
      "execution_count": 11,
      "outputs": [
        {
          "output_type": "execute_result",
          "data": {
            "text/plain": [
              "              Outcome  All Patients  Hospitalized  ICU Admitted  \\\n",
              "0      Home Isolation      0.795238      0.032673      0.026667   \n",
              "1  Hospital Admission      0.211678      1.000000      1.000000   \n",
              "2       ICU Admission      0.042517      0.200857      1.000000   \n",
              "\n",
              "   Required Ventilation  \n",
              "0               0.02439  \n",
              "1               1.00000  \n",
              "2               1.00000  "
            ],
            "text/html": [
              "\n",
              "  <div id=\"df-3a76386e-6874-4ef3-871c-66b426c30c7e\">\n",
              "    <div class=\"colab-df-container\">\n",
              "      <div>\n",
              "<style scoped>\n",
              "    .dataframe tbody tr th:only-of-type {\n",
              "        vertical-align: middle;\n",
              "    }\n",
              "\n",
              "    .dataframe tbody tr th {\n",
              "        vertical-align: top;\n",
              "    }\n",
              "\n",
              "    .dataframe thead th {\n",
              "        text-align: right;\n",
              "    }\n",
              "</style>\n",
              "<table border=\"1\" class=\"dataframe\">\n",
              "  <thead>\n",
              "    <tr style=\"text-align: right;\">\n",
              "      <th></th>\n",
              "      <th>Outcome</th>\n",
              "      <th>All Patients</th>\n",
              "      <th>Hospitalized</th>\n",
              "      <th>ICU Admitted</th>\n",
              "      <th>Required Ventilation</th>\n",
              "    </tr>\n",
              "  </thead>\n",
              "  <tbody>\n",
              "    <tr>\n",
              "      <th>0</th>\n",
              "      <td>Home Isolation</td>\n",
              "      <td>0.795238</td>\n",
              "      <td>0.032673</td>\n",
              "      <td>0.026667</td>\n",
              "      <td>0.02439</td>\n",
              "    </tr>\n",
              "    <tr>\n",
              "      <th>1</th>\n",
              "      <td>Hospital Admission</td>\n",
              "      <td>0.211678</td>\n",
              "      <td>1.000000</td>\n",
              "      <td>1.000000</td>\n",
              "      <td>1.00000</td>\n",
              "    </tr>\n",
              "    <tr>\n",
              "      <th>2</th>\n",
              "      <td>ICU Admission</td>\n",
              "      <td>0.042517</td>\n",
              "      <td>0.200857</td>\n",
              "      <td>1.000000</td>\n",
              "      <td>1.00000</td>\n",
              "    </tr>\n",
              "  </tbody>\n",
              "</table>\n",
              "</div>\n",
              "      <button class=\"colab-df-convert\" onclick=\"convertToInteractive('df-3a76386e-6874-4ef3-871c-66b426c30c7e')\"\n",
              "              title=\"Convert this dataframe to an interactive table.\"\n",
              "              style=\"display:none;\">\n",
              "        \n",
              "  <svg xmlns=\"http://www.w3.org/2000/svg\" height=\"24px\"viewBox=\"0 0 24 24\"\n",
              "       width=\"24px\">\n",
              "    <path d=\"M0 0h24v24H0V0z\" fill=\"none\"/>\n",
              "    <path d=\"M18.56 5.44l.94 2.06.94-2.06 2.06-.94-2.06-.94-.94-2.06-.94 2.06-2.06.94zm-11 1L8.5 8.5l.94-2.06 2.06-.94-2.06-.94L8.5 2.5l-.94 2.06-2.06.94zm10 10l.94 2.06.94-2.06 2.06-.94-2.06-.94-.94-2.06-.94 2.06-2.06.94z\"/><path d=\"M17.41 7.96l-1.37-1.37c-.4-.4-.92-.59-1.43-.59-.52 0-1.04.2-1.43.59L10.3 9.45l-7.72 7.72c-.78.78-.78 2.05 0 2.83L4 21.41c.39.39.9.59 1.41.59.51 0 1.02-.2 1.41-.59l7.78-7.78 2.81-2.81c.8-.78.8-2.07 0-2.86zM5.41 20L4 18.59l7.72-7.72 1.47 1.35L5.41 20z\"/>\n",
              "  </svg>\n",
              "      </button>\n",
              "      \n",
              "  <style>\n",
              "    .colab-df-container {\n",
              "      display:flex;\n",
              "      flex-wrap:wrap;\n",
              "      gap: 12px;\n",
              "    }\n",
              "\n",
              "    .colab-df-convert {\n",
              "      background-color: #E8F0FE;\n",
              "      border: none;\n",
              "      border-radius: 50%;\n",
              "      cursor: pointer;\n",
              "      display: none;\n",
              "      fill: #1967D2;\n",
              "      height: 32px;\n",
              "      padding: 0 0 0 0;\n",
              "      width: 32px;\n",
              "    }\n",
              "\n",
              "    .colab-df-convert:hover {\n",
              "      background-color: #E2EBFA;\n",
              "      box-shadow: 0px 1px 2px rgba(60, 64, 67, 0.3), 0px 1px 3px 1px rgba(60, 64, 67, 0.15);\n",
              "      fill: #174EA6;\n",
              "    }\n",
              "\n",
              "    [theme=dark] .colab-df-convert {\n",
              "      background-color: #3B4455;\n",
              "      fill: #D2E3FC;\n",
              "    }\n",
              "\n",
              "    [theme=dark] .colab-df-convert:hover {\n",
              "      background-color: #434B5C;\n",
              "      box-shadow: 0px 1px 3px 1px rgba(0, 0, 0, 0.15);\n",
              "      filter: drop-shadow(0px 1px 2px rgba(0, 0, 0, 0.3));\n",
              "      fill: #FFFFFF;\n",
              "    }\n",
              "  </style>\n",
              "\n",
              "      <script>\n",
              "        const buttonEl =\n",
              "          document.querySelector('#df-3a76386e-6874-4ef3-871c-66b426c30c7e button.colab-df-convert');\n",
              "        buttonEl.style.display =\n",
              "          google.colab.kernel.accessAllowed ? 'block' : 'none';\n",
              "\n",
              "        async function convertToInteractive(key) {\n",
              "          const element = document.querySelector('#df-3a76386e-6874-4ef3-871c-66b426c30c7e');\n",
              "          const dataTable =\n",
              "            await google.colab.kernel.invokeFunction('convertToInteractive',\n",
              "                                                     [key], {});\n",
              "          if (!dataTable) return;\n",
              "\n",
              "          const docLinkHtml = 'Like what you see? Visit the ' +\n",
              "            '<a target=\"_blank\" href=https://colab.research.google.com/notebooks/data_table.ipynb>data table notebook</a>'\n",
              "            + ' to learn more about interactive tables.';\n",
              "          element.innerHTML = '';\n",
              "          dataTable['output_type'] = 'display_data';\n",
              "          await google.colab.output.renderOutput(dataTable, element);\n",
              "          const docLink = document.createElement('div');\n",
              "          docLink.innerHTML = docLinkHtml;\n",
              "          element.appendChild(docLink);\n",
              "        }\n",
              "      </script>\n",
              "    </div>\n",
              "  </div>\n",
              "  "
            ]
          },
          "metadata": {},
          "execution_count": 11
        }
      ]
    },
    {
      "cell_type": "code",
      "source": [
        "# Outcomes for ICU patients\n",
        "icu_only = cp[cp.icu_admit == True]\n",
        "\n",
        "vent = (icu_only.ventilated == True)\n",
        "covid_count = icu_only.Id.size\n",
        "\n",
        "\n",
        "table_rows = []\n",
        "for category, row_filter in row_filters.items():\n",
        "    row = {'Outcome': category}\n",
        "    row['ICU Admitted'] = icu_only[row_filter].Id.size / covid_count\n",
        "    row['Required Ventilation'] = icu_only[row_filter & vent].Id.size / vent.value_counts()[True]\n",
        "    table_rows.append(row)\n",
        "    \n",
        "pd.DataFrame.from_records(table_rows)\n"
      ],
      "metadata": {
        "colab": {
          "base_uri": "https://localhost:8080/",
          "height": 233
        },
        "id": "p17zhcbzfdUU",
        "outputId": "67a1d206-ed40-4ea7-9644-aaebf07dfc79"
      },
      "execution_count": 12,
      "outputs": [
        {
          "output_type": "stream",
          "name": "stderr",
          "text": [
            "<ipython-input-12-308b8902cab5>:11: UserWarning: Boolean Series key will be reindexed to match DataFrame index.\n",
            "  row['ICU Admitted'] = icu_only[row_filter].Id.size / covid_count\n",
            "<ipython-input-12-308b8902cab5>:12: UserWarning: Boolean Series key will be reindexed to match DataFrame index.\n",
            "  row['Required Ventilation'] = icu_only[row_filter & vent].Id.size / vent.value_counts()[True]\n"
          ]
        },
        {
          "output_type": "execute_result",
          "data": {
            "text/plain": [
              "              Outcome  ICU Admitted  Required Ventilation\n",
              "0      Home Isolation      0.026667               0.02439\n",
              "1  Hospital Admission      1.000000               1.00000\n",
              "2       ICU Admission      1.000000               1.00000"
            ],
            "text/html": [
              "\n",
              "  <div id=\"df-6dacb5d9-82de-4b24-9979-5ebf4ab5546f\">\n",
              "    <div class=\"colab-df-container\">\n",
              "      <div>\n",
              "<style scoped>\n",
              "    .dataframe tbody tr th:only-of-type {\n",
              "        vertical-align: middle;\n",
              "    }\n",
              "\n",
              "    .dataframe tbody tr th {\n",
              "        vertical-align: top;\n",
              "    }\n",
              "\n",
              "    .dataframe thead th {\n",
              "        text-align: right;\n",
              "    }\n",
              "</style>\n",
              "<table border=\"1\" class=\"dataframe\">\n",
              "  <thead>\n",
              "    <tr style=\"text-align: right;\">\n",
              "      <th></th>\n",
              "      <th>Outcome</th>\n",
              "      <th>ICU Admitted</th>\n",
              "      <th>Required Ventilation</th>\n",
              "    </tr>\n",
              "  </thead>\n",
              "  <tbody>\n",
              "    <tr>\n",
              "      <th>0</th>\n",
              "      <td>Home Isolation</td>\n",
              "      <td>0.026667</td>\n",
              "      <td>0.02439</td>\n",
              "    </tr>\n",
              "    <tr>\n",
              "      <th>1</th>\n",
              "      <td>Hospital Admission</td>\n",
              "      <td>1.000000</td>\n",
              "      <td>1.00000</td>\n",
              "    </tr>\n",
              "    <tr>\n",
              "      <th>2</th>\n",
              "      <td>ICU Admission</td>\n",
              "      <td>1.000000</td>\n",
              "      <td>1.00000</td>\n",
              "    </tr>\n",
              "  </tbody>\n",
              "</table>\n",
              "</div>\n",
              "      <button class=\"colab-df-convert\" onclick=\"convertToInteractive('df-6dacb5d9-82de-4b24-9979-5ebf4ab5546f')\"\n",
              "              title=\"Convert this dataframe to an interactive table.\"\n",
              "              style=\"display:none;\">\n",
              "        \n",
              "  <svg xmlns=\"http://www.w3.org/2000/svg\" height=\"24px\"viewBox=\"0 0 24 24\"\n",
              "       width=\"24px\">\n",
              "    <path d=\"M0 0h24v24H0V0z\" fill=\"none\"/>\n",
              "    <path d=\"M18.56 5.44l.94 2.06.94-2.06 2.06-.94-2.06-.94-.94-2.06-.94 2.06-2.06.94zm-11 1L8.5 8.5l.94-2.06 2.06-.94-2.06-.94L8.5 2.5l-.94 2.06-2.06.94zm10 10l.94 2.06.94-2.06 2.06-.94-2.06-.94-.94-2.06-.94 2.06-2.06.94z\"/><path d=\"M17.41 7.96l-1.37-1.37c-.4-.4-.92-.59-1.43-.59-.52 0-1.04.2-1.43.59L10.3 9.45l-7.72 7.72c-.78.78-.78 2.05 0 2.83L4 21.41c.39.39.9.59 1.41.59.51 0 1.02-.2 1.41-.59l7.78-7.78 2.81-2.81c.8-.78.8-2.07 0-2.86zM5.41 20L4 18.59l7.72-7.72 1.47 1.35L5.41 20z\"/>\n",
              "  </svg>\n",
              "      </button>\n",
              "      \n",
              "  <style>\n",
              "    .colab-df-container {\n",
              "      display:flex;\n",
              "      flex-wrap:wrap;\n",
              "      gap: 12px;\n",
              "    }\n",
              "\n",
              "    .colab-df-convert {\n",
              "      background-color: #E8F0FE;\n",
              "      border: none;\n",
              "      border-radius: 50%;\n",
              "      cursor: pointer;\n",
              "      display: none;\n",
              "      fill: #1967D2;\n",
              "      height: 32px;\n",
              "      padding: 0 0 0 0;\n",
              "      width: 32px;\n",
              "    }\n",
              "\n",
              "    .colab-df-convert:hover {\n",
              "      background-color: #E2EBFA;\n",
              "      box-shadow: 0px 1px 2px rgba(60, 64, 67, 0.3), 0px 1px 3px 1px rgba(60, 64, 67, 0.15);\n",
              "      fill: #174EA6;\n",
              "    }\n",
              "\n",
              "    [theme=dark] .colab-df-convert {\n",
              "      background-color: #3B4455;\n",
              "      fill: #D2E3FC;\n",
              "    }\n",
              "\n",
              "    [theme=dark] .colab-df-convert:hover {\n",
              "      background-color: #434B5C;\n",
              "      box-shadow: 0px 1px 3px 1px rgba(0, 0, 0, 0.15);\n",
              "      filter: drop-shadow(0px 1px 2px rgba(0, 0, 0, 0.3));\n",
              "      fill: #FFFFFF;\n",
              "    }\n",
              "  </style>\n",
              "\n",
              "      <script>\n",
              "        const buttonEl =\n",
              "          document.querySelector('#df-6dacb5d9-82de-4b24-9979-5ebf4ab5546f button.colab-df-convert');\n",
              "        buttonEl.style.display =\n",
              "          google.colab.kernel.accessAllowed ? 'block' : 'none';\n",
              "\n",
              "        async function convertToInteractive(key) {\n",
              "          const element = document.querySelector('#df-6dacb5d9-82de-4b24-9979-5ebf4ab5546f');\n",
              "          const dataTable =\n",
              "            await google.colab.kernel.invokeFunction('convertToInteractive',\n",
              "                                                     [key], {});\n",
              "          if (!dataTable) return;\n",
              "\n",
              "          const docLinkHtml = 'Like what you see? Visit the ' +\n",
              "            '<a target=\"_blank\" href=https://colab.research.google.com/notebooks/data_table.ipynb>data table notebook</a>'\n",
              "            + ' to learn more about interactive tables.';\n",
              "          element.innerHTML = '';\n",
              "          dataTable['output_type'] = 'display_data';\n",
              "          await google.colab.output.renderOutput(dataTable, element);\n",
              "          const docLink = document.createElement('div');\n",
              "          docLink.innerHTML = docLinkHtml;\n",
              "          element.appendChild(docLink);\n",
              "        }\n",
              "      </script>\n",
              "    </div>\n",
              "  </div>\n",
              "  "
            ]
          },
          "metadata": {},
          "execution_count": 12
        }
      ]
    },
    {
      "cell_type": "code",
      "source": [
        "# HIDE\n",
        "def load_ICU_data(path):\n",
        "    column_names = ['Id', 'BIRTHDATE', 'DEATHDATE','ICU Admission' ,'SSN', 'DRIVERS', 'PASSPORT', 'PREFIX',\n",
        "                    'FIRST', 'LAST', 'SUFFIX', 'MAIDEN','MARITAL','race', 'gender', 'BIRTHPLACE', 'ADDRESS']\n",
        "\n",
        "    input_data = (pd.read_csv(path, names=column_names, \n",
        "                             na_values=\"?\", sep=r'\\s*,\\s*', engine='python'))\n",
        "               # .loc[lambda df: df['race'].isin(['White', 'black', 'asian'])])\n",
        "    \n",
        "    input_data\n",
        "\n",
        "    # sensitive attributes; we identify 'race' and 'sex' as sensitive attributes\n",
        "    sensitive_attribs = ['race', 'gender']\n",
        "    Z = (input_data.loc[:, sensitive_attribs]\n",
        "         .assign(race=lambda df: (df['race'] == 'white').astype(int),\n",
        "                 gender=lambda df: (df['gender'] == 'M').astype(int)))\n",
        "\n",
        "    # targets; 1 admit to ICU , otherwise 0\n",
        "    \n",
        "    y = (input_data['ICU Admission'] == 'Yes')\n",
        "    # y = icu_only[row_filter].Id\n",
        "    # features; note that the 'target' and sentive attribute columns are dropped\n",
        "    X = (input_data\n",
        "         .drop(columns=['ICU Admission', 'race', 'gender'])\n",
        "         .fillna('Unknown')\n",
        "         .pipe(pd.get_dummies, drop_first=True))\n",
        "    \n",
        "    print(f\"features X: {X.shape[0]} samples, {X.shape[1]} attributes\")\n",
        "    print(f\"targets y: {y.shape[0]} samples\")\n",
        "    print(f\"sensitives Z: {Z.shape[0]} samples, {Z.shape[1]} attributes\")\n",
        "    return X, y, Z\n"
      ],
      "metadata": {
        "id": "TIJtPM0VArt5"
      },
      "execution_count": 13,
      "outputs": []
    },
    {
      "cell_type": "code",
      "source": [
        "# load ICU data set\n",
        "X, y, Z = load_ICU_data(\"/content/drive/MyDrive/Colab Notebooks/Challenge Data/patientstarget.csv\")\n"
      ],
      "metadata": {
        "colab": {
          "base_uri": "https://localhost:8080/"
        },
        "id": "PqK9-dQJSy8s",
        "outputId": "ece07a0c-e912-46ca-ea81-78fc458e6c30"
      },
      "execution_count": 14,
      "outputs": [
        {
          "output_type": "stream",
          "name": "stdout",
          "text": [
            "features X: 12353 samples, 36798 attributes\n",
            "targets y: 12353 samples\n",
            "sensitives Z: 12353 samples, 2 attributes\n"
          ]
        }
      ]
    },
    {
      "cell_type": "code",
      "source": [
        "# HIDE\n",
        "\n",
        "class FairClassifier(object):\n",
        "    \n",
        "    def __init__(self, n_features, n_sensitive, lambdas):\n",
        "        self.lambdas = lambdas\n",
        "        \n",
        "        clf_inputs = Input(shape=(n_features,))\n",
        "        adv_inputs = Input(shape=(1,))\n",
        "        \n",
        "        clf_net = self._create_clf_net(clf_inputs)\n",
        "        adv_net = self._create_adv_net(adv_inputs, n_sensitive)\n",
        "        self._trainable_clf_net = self._make_trainable(clf_net)\n",
        "        self._trainable_adv_net = self._make_trainable(adv_net)\n",
        "        self._clf = self._compile_clf(clf_net)\n",
        "        self._clf_w_adv = self._compile_clf_w_adv(clf_inputs, clf_net, adv_net)\n",
        "        self._adv = self._compile_adv(clf_inputs, clf_net, adv_net, n_sensitive)\n",
        "        self._val_metrics = None\n",
        "        self._fairness_metrics = None\n",
        "        \n",
        "        self.predict = self._clf.predict\n",
        "        \n",
        "    def _make_trainable(self, net):\n",
        "        def make_trainable(flag):\n",
        "            net.trainable = flag\n",
        "            for layer in net.layers:\n",
        "                layer.trainable = flag\n",
        "        return make_trainable\n",
        "        \n",
        "    def _create_clf_net(self, inputs):\n",
        "        dense1 = Dense(32, activation='relu')(inputs)\n",
        "        dropout1 = Dropout(0.2)(dense1)\n",
        "        dense2 = Dense(32, activation='relu')(dropout1)\n",
        "        dropout2 = Dropout(0.2)(dense2)\n",
        "        dense3 = Dense(32, activation='relu')(dropout2)\n",
        "        dropout3 = Dropout(0.2)(dense3)\n",
        "        outputs = Dense(1, activation='sigmoid', name='y')(dropout3)\n",
        "        return Model(inputs=[inputs], outputs=[outputs])\n",
        "        \n",
        "    def _create_adv_net(self, inputs, n_sensitive):\n",
        "        dense1 = Dense(32, activation='relu')(inputs)\n",
        "        dense2 = Dense(32, activation='relu')(dense1)\n",
        "        dense3 = Dense(32, activation='relu')(dense2)\n",
        "        outputs = [Dense(1, activation='sigmoid')(dense3) for _ in range(n_sensitive)]\n",
        "        return Model(inputs=[inputs], outputs=outputs)\n",
        "\n",
        "    def _compile_clf(self, clf_net):\n",
        "        clf = clf_net\n",
        "        self._trainable_clf_net(True)\n",
        "        clf.compile(loss='binary_crossentropy', optimizer='adam')\n",
        "        return clf\n",
        "        \n",
        "    def _compile_clf_w_adv(self, inputs, clf_net, adv_net):\n",
        "        clf_w_adv = Model(inputs=[inputs], outputs=[clf_net(inputs)]+adv_net(clf_net(inputs)))\n",
        "        self._trainable_clf_net(True)\n",
        "        self._trainable_adv_net(False)\n",
        "        loss_weights = [1.]+[-lambda_param for lambda_param in self.lambdas]\n",
        "        clf_w_adv.compile(loss=['binary_crossentropy']*(len(loss_weights)), \n",
        "                          loss_weights=loss_weights,\n",
        "                          optimizer='adam')\n",
        "        return clf_w_adv\n",
        "\n",
        "    def _compile_adv(self, inputs, clf_net, adv_net, n_sensitive):\n",
        "        adv = Model(inputs=[inputs], outputs=adv_net(clf_net(inputs)))\n",
        "        self._trainable_clf_net(False)\n",
        "        self._trainable_adv_net(True)\n",
        "        adv.compile(loss=['binary_crossentropy']*n_sensitive, loss_weights=self.lambdas, \n",
        "                    optimizer='adam')\n",
        "        return adv\n",
        "\n",
        "    def _compute_class_weights(self, data_set, classes=[0, 1]):\n",
        "        class_weights = []\n",
        "        if len(data_set.shape) == 1:\n",
        "            balanced_weights = compute_class_weight('balanced', classes=classes, y=data_set)\n",
        "            class_weights.append(dict(zip(classes, balanced_weights)))\n",
        "        else:\n",
        "            n_attr =  data_set.shape[1]\n",
        "            for attr_idx in range(n_attr):\n",
        "                balanced_weights = compute_class_weight('balanced', classes=classes,\n",
        "                                                        y=np.array(data_set)[:,attr_idx])\n",
        "                class_weights.append(dict(zip(classes, balanced_weights)))\n",
        "        return class_weights\n",
        "    \n",
        "    def _compute_target_class_weights(self, y, classes=[0, 1]):\n",
        "        balanced_weights =  compute_class_weight('balanced', classes=classes, y=y)\n",
        "        class_weights = {'y': dict(zip(classes, balanced_weights))}\n",
        "        return class_weights\n",
        "        \n",
        "    def pretrain(self, x, y, z, epochs=10, verbose=0):\n",
        "        self._trainable_clf_net(True)\n",
        "        self._clf.fit(x.values, y.values, epochs=epochs, verbose=verbose)\n",
        "        self._trainable_clf_net(False)\n",
        "        self._trainable_adv_net(True)\n",
        "        class_weight_adv = self._compute_class_weights(z)\n",
        "        self._adv.fit(x.values, np.hsplit(z.values, z.shape[1]), class_weight=class_weight_adv, \n",
        "                      epochs=epochs, verbose=verbose)\n",
        "        \n",
        "    def fit(self, x, y, z, validation_data=None, T_iter=250, batch_size=128,\n",
        "            save_figs=False, verbose=0):\n",
        "        n_sensitive = z.shape[1]\n",
        "        if validation_data is not None:\n",
        "            x_val, y_val, z_val = validation_data\n",
        "        \n",
        "        class_weight_clf = [{0:1., 1:1.}]\n",
        "        class_weight_adv = self._compute_class_weights(z)\n",
        "        class_weight_clf_w_adv = class_weight_clf+class_weight_adv\n",
        "        self._val_metrics = pd.DataFrame()\n",
        "        self._fairness_metrics = pd.DataFrame()  \n",
        "        for idx in range(T_iter):\n",
        "            if validation_data is not None:\n",
        "                y_pred = pd.Series(self._clf.predict(x_val.values).ravel(), index=y_val.index)\n",
        "                self._val_metrics.loc[idx, 'ROC AUC'] = roc_auc_score(y_val, y_pred)\n",
        "                self._val_metrics.loc[idx, 'Accuracy'] = (accuracy_score(y_val, (y_pred>0.5))*100)\n",
        "                for sensitive_attr in z_val.columns:\n",
        "                    self._fairness_metrics.loc[idx, sensitive_attr] = p_rule(y_pred,\n",
        "                                                                             z_val[sensitive_attr])\n",
        "                display.clear_output(wait=True)\n",
        "                plot_distributions(y_pred, z_val, idx+1, self._val_metrics.loc[idx],\n",
        "                                   self._fairness_metrics.loc[idx], \n",
        "                                   fname=f'output/{idx+1:08d}.png' if save_figs else None)\n",
        "                plt.show(plt.gcf())\n",
        "            \n",
        "            \n",
        "            # train adverserial\n",
        "            self._trainable_clf_net(False)\n",
        "            self._trainable_adv_net(True)\n",
        "            self._adv.fit(x.values, np.hsplit(z.values, z.shape[1]), batch_size=batch_size, \n",
        "                          class_weight=class_weight_adv, epochs=1, verbose=verbose)\n",
        "            \n",
        "            # train classifier \n",
        "            # !Changed this into several epochs on whole dataset instead of single random minibatch!\n",
        "            self._trainable_clf_net(True)\n",
        "            self._trainable_adv_net(False)\n",
        "            indices = np.random.permutation(len(x))[:batch_size]\n",
        "            self._clf_w_adv.fit(x.values, [y.values]+np.hsplit(z.values, z.shape[1]), batch_size=len(x), \n",
        "                                class_weight=class_weight_clf_w_adv, epochs=5, verbose=verbose)"
      ],
      "metadata": {
        "id": "jcOam_FxFDyk"
      },
      "execution_count": 15,
      "outputs": []
    },
    {
      "cell_type": "code",
      "source": [
        "# split into train/test set\n",
        "X_train, X_test, y_train, y_test, Z_train, Z_test = train_test_split(X, y, Z, test_size=0.5, \n",
        "                                                                     stratify=y, random_state=7)\n",
        "\n",
        "# standardize the data\n",
        "scaler = StandardScaler().fit(X_train)\n",
        "scale_df = lambda df, scaler: pd.DataFrame(scaler.transform(df), columns=df.columns, index=df.index)\n",
        "X_train = X_train.pipe(scale_df, scaler) \n",
        "X_test = X_test.pipe(scale_df, scaler) "
      ],
      "metadata": {
        "id": "fBdPLLCelrGl"
      },
      "execution_count": 16,
      "outputs": []
    },
    {
      "cell_type": "code",
      "source": [
        "# initialise FairClassifier\n",
        "clf = FairClassifier(n_features=X_train.shape[1], n_sensitive=Z_train.shape[1],\n",
        "                     lambdas=[5., 5.])\n",
        "\n",
        "# pre-train both adverserial and classifier networks\n",
        "clf.pretrain(X_train, y_train, Z_train, verbose=0, epochs=5)"
      ],
      "metadata": {
        "colab": {
          "base_uri": "https://localhost:8080/",
          "height": 381
        },
        "id": "_QOCYHhnemJq",
        "outputId": "c685c3b0-3195-4a8c-fc12-42baea5af71b"
      },
      "execution_count": 17,
      "outputs": [
        {
          "output_type": "error",
          "ename": "ValueError",
          "evalue": "ignored",
          "traceback": [
            "\u001b[0;31m---------------------------------------------------------------------------\u001b[0m",
            "\u001b[0;31mValueError\u001b[0m                                Traceback (most recent call last)",
            "\u001b[0;32m<ipython-input-17-1b350d6ec2a4>\u001b[0m in \u001b[0;36m<module>\u001b[0;34m\u001b[0m\n\u001b[1;32m      4\u001b[0m \u001b[0;34m\u001b[0m\u001b[0m\n\u001b[1;32m      5\u001b[0m \u001b[0;31m# pre-train both adverserial and classifier networks\u001b[0m\u001b[0;34m\u001b[0m\u001b[0;34m\u001b[0m\u001b[0;34m\u001b[0m\u001b[0m\n\u001b[0;32m----> 6\u001b[0;31m \u001b[0mclf\u001b[0m\u001b[0;34m.\u001b[0m\u001b[0mpretrain\u001b[0m\u001b[0;34m(\u001b[0m\u001b[0mX_train\u001b[0m\u001b[0;34m,\u001b[0m \u001b[0my_train\u001b[0m\u001b[0;34m,\u001b[0m \u001b[0mZ_train\u001b[0m\u001b[0;34m,\u001b[0m \u001b[0mverbose\u001b[0m\u001b[0;34m=\u001b[0m\u001b[0;36m0\u001b[0m\u001b[0;34m,\u001b[0m \u001b[0mepochs\u001b[0m\u001b[0;34m=\u001b[0m\u001b[0;36m5\u001b[0m\u001b[0;34m)\u001b[0m\u001b[0;34m\u001b[0m\u001b[0;34m\u001b[0m\u001b[0m\n\u001b[0m",
            "\u001b[0;32m<ipython-input-15-702d5eb21e1c>\u001b[0m in \u001b[0;36mpretrain\u001b[0;34m(self, x, y, z, epochs, verbose)\u001b[0m\n\u001b[1;32m     92\u001b[0m         \u001b[0mself\u001b[0m\u001b[0;34m.\u001b[0m\u001b[0m_trainable_clf_net\u001b[0m\u001b[0;34m(\u001b[0m\u001b[0;32mFalse\u001b[0m\u001b[0;34m)\u001b[0m\u001b[0;34m\u001b[0m\u001b[0;34m\u001b[0m\u001b[0m\n\u001b[1;32m     93\u001b[0m         \u001b[0mself\u001b[0m\u001b[0;34m.\u001b[0m\u001b[0m_trainable_adv_net\u001b[0m\u001b[0;34m(\u001b[0m\u001b[0;32mTrue\u001b[0m\u001b[0;34m)\u001b[0m\u001b[0;34m\u001b[0m\u001b[0;34m\u001b[0m\u001b[0m\n\u001b[0;32m---> 94\u001b[0;31m         \u001b[0mclass_weight_adv\u001b[0m \u001b[0;34m=\u001b[0m \u001b[0mself\u001b[0m\u001b[0;34m.\u001b[0m\u001b[0m_compute_class_weights\u001b[0m\u001b[0;34m(\u001b[0m\u001b[0mz\u001b[0m\u001b[0;34m)\u001b[0m\u001b[0;34m\u001b[0m\u001b[0;34m\u001b[0m\u001b[0m\n\u001b[0m\u001b[1;32m     95\u001b[0m         self._adv.fit(x.values, np.hsplit(z.values, z.shape[1]), class_weight=class_weight_adv, \n\u001b[1;32m     96\u001b[0m                       epochs=epochs, verbose=verbose)\n",
            "\u001b[0;32m<ipython-input-15-702d5eb21e1c>\u001b[0m in \u001b[0;36m_compute_class_weights\u001b[0;34m(self, data_set, classes)\u001b[0m\n\u001b[1;32m     77\u001b[0m             \u001b[0mn_attr\u001b[0m \u001b[0;34m=\u001b[0m  \u001b[0mdata_set\u001b[0m\u001b[0;34m.\u001b[0m\u001b[0mshape\u001b[0m\u001b[0;34m[\u001b[0m\u001b[0;36m1\u001b[0m\u001b[0;34m]\u001b[0m\u001b[0;34m\u001b[0m\u001b[0;34m\u001b[0m\u001b[0m\n\u001b[1;32m     78\u001b[0m             \u001b[0;32mfor\u001b[0m \u001b[0mattr_idx\u001b[0m \u001b[0;32min\u001b[0m \u001b[0mrange\u001b[0m\u001b[0;34m(\u001b[0m\u001b[0mn_attr\u001b[0m\u001b[0;34m)\u001b[0m\u001b[0;34m:\u001b[0m\u001b[0;34m\u001b[0m\u001b[0;34m\u001b[0m\u001b[0m\n\u001b[0;32m---> 79\u001b[0;31m                 balanced_weights = compute_class_weight('balanced', classes=classes,\n\u001b[0m\u001b[1;32m     80\u001b[0m                                                         y=np.array(data_set)[:,attr_idx])\n\u001b[1;32m     81\u001b[0m                 \u001b[0mclass_weights\u001b[0m\u001b[0;34m.\u001b[0m\u001b[0mappend\u001b[0m\u001b[0;34m(\u001b[0m\u001b[0mdict\u001b[0m\u001b[0;34m(\u001b[0m\u001b[0mzip\u001b[0m\u001b[0;34m(\u001b[0m\u001b[0mclasses\u001b[0m\u001b[0;34m,\u001b[0m \u001b[0mbalanced_weights\u001b[0m\u001b[0;34m)\u001b[0m\u001b[0;34m)\u001b[0m\u001b[0;34m)\u001b[0m\u001b[0;34m\u001b[0m\u001b[0;34m\u001b[0m\u001b[0m\n",
            "\u001b[0;32m/usr/local/lib/python3.8/dist-packages/sklearn/utils/class_weight.py\u001b[0m in \u001b[0;36mcompute_class_weight\u001b[0;34m(class_weight, classes, y)\u001b[0m\n\u001b[1;32m     48\u001b[0m         \u001b[0my_ind\u001b[0m \u001b[0;34m=\u001b[0m \u001b[0mle\u001b[0m\u001b[0;34m.\u001b[0m\u001b[0mfit_transform\u001b[0m\u001b[0;34m(\u001b[0m\u001b[0my\u001b[0m\u001b[0;34m)\u001b[0m\u001b[0;34m\u001b[0m\u001b[0;34m\u001b[0m\u001b[0m\n\u001b[1;32m     49\u001b[0m         \u001b[0;32mif\u001b[0m \u001b[0;32mnot\u001b[0m \u001b[0mall\u001b[0m\u001b[0;34m(\u001b[0m\u001b[0mnp\u001b[0m\u001b[0;34m.\u001b[0m\u001b[0min1d\u001b[0m\u001b[0;34m(\u001b[0m\u001b[0mclasses\u001b[0m\u001b[0;34m,\u001b[0m \u001b[0mle\u001b[0m\u001b[0;34m.\u001b[0m\u001b[0mclasses_\u001b[0m\u001b[0;34m)\u001b[0m\u001b[0;34m)\u001b[0m\u001b[0;34m:\u001b[0m\u001b[0;34m\u001b[0m\u001b[0;34m\u001b[0m\u001b[0m\n\u001b[0;32m---> 50\u001b[0;31m             \u001b[0;32mraise\u001b[0m \u001b[0mValueError\u001b[0m\u001b[0;34m(\u001b[0m\u001b[0;34m\"classes should have valid labels that are in y\"\u001b[0m\u001b[0;34m)\u001b[0m\u001b[0;34m\u001b[0m\u001b[0;34m\u001b[0m\u001b[0m\n\u001b[0m\u001b[1;32m     51\u001b[0m \u001b[0;34m\u001b[0m\u001b[0m\n\u001b[1;32m     52\u001b[0m         \u001b[0mrecip_freq\u001b[0m \u001b[0;34m=\u001b[0m \u001b[0mlen\u001b[0m\u001b[0;34m(\u001b[0m\u001b[0my\u001b[0m\u001b[0;34m)\u001b[0m \u001b[0;34m/\u001b[0m \u001b[0;34m(\u001b[0m\u001b[0mlen\u001b[0m\u001b[0;34m(\u001b[0m\u001b[0mle\u001b[0m\u001b[0;34m.\u001b[0m\u001b[0mclasses_\u001b[0m\u001b[0;34m)\u001b[0m \u001b[0;34m*\u001b[0m \u001b[0mnp\u001b[0m\u001b[0;34m.\u001b[0m\u001b[0mbincount\u001b[0m\u001b[0;34m(\u001b[0m\u001b[0my_ind\u001b[0m\u001b[0;34m)\u001b[0m\u001b[0;34m.\u001b[0m\u001b[0mastype\u001b[0m\u001b[0;34m(\u001b[0m\u001b[0mnp\u001b[0m\u001b[0;34m.\u001b[0m\u001b[0mfloat64\u001b[0m\u001b[0;34m)\u001b[0m\u001b[0;34m)\u001b[0m\u001b[0;34m\u001b[0m\u001b[0;34m\u001b[0m\u001b[0m\n",
            "\u001b[0;31mValueError\u001b[0m: classes should have valid labels that are in y"
          ]
        }
      ]
    }
  ]
}